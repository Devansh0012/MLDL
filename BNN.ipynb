{
 "cells": [
  {
   "cell_type": "code",
   "execution_count": 1,
   "id": "9b922d11-2ffe-4120-9bde-82b2f03f09f3",
   "metadata": {},
   "outputs": [
    {
     "name": "stdout",
     "output_type": "stream",
     "text": [
      "WARNING:tensorflow:From C:\\Users\\devan\\AppData\\Local\\Temp\\ipykernel_11476\\3803356559.py:2: The name tf.disable_v2_behavior is deprecated. Please use tf.compat.v1.disable_v2_behavior instead.\n",
      "\n",
      "WARNING:tensorflow:From C:\\Users\\devan\\anaconda3\\Lib\\site-packages\\tensorflow\\python\\compat\\v2_compat.py:98: disable_resource_variables (from tensorflow.python.ops.resource_variables_toggle) is deprecated and will be removed in a future version.\n",
      "Instructions for updating:\n",
      "non-resource variables are not supported in the long term\n"
     ]
    }
   ],
   "source": [
    "import tensorflow.compat.v1 as tf\n",
    "tf.disable_v2_behavior()\n",
    "import numpy as np\n",
    "import matplotlib.pyplot as plt"
   ]
  },
  {
   "cell_type": "code",
   "execution_count": 2,
   "id": "05a0455b-0478-4246-a513-a75c87e2d83a",
   "metadata": {},
   "outputs": [],
   "source": [
    "X_train_data = np.array([[0, 0], [0, 1], [1, 0], [1, 1]], dtype=np.float32)  # input\n",
    "y_train_data = np.array([[0], [1], [1], [0]], dtype=np.float32)  # output"
   ]
  },
  {
   "cell_type": "code",
   "execution_count": 3,
   "id": "f67c469b-ed82-4d2d-a8fd-d9dd793081cf",
   "metadata": {},
   "outputs": [
    {
     "name": "stdout",
     "output_type": "stream",
     "text": [
      "WARNING:tensorflow:From C:\\Users\\devan\\AppData\\Local\\Temp\\ipykernel_11476\\4107955391.py:22: The name tf.train.GradientDescentOptimizer is deprecated. Please use tf.compat.v1.train.GradientDescentOptimizer instead.\n",
      "\n"
     ]
    }
   ],
   "source": [
    "# define number of neurons in each layer\n",
    "n_input = 2  # number of features\n",
    "n_hidden = 4  # number of hidden units\n",
    "n_output = 1  # number of output units\n",
    "\n",
    "# define placeholders for input and output\n",
    "X = tf.placeholder(tf.float32, shape=[None, n_input])\n",
    "y = tf.placeholder(tf.float32, shape=[None, n_output])\n",
    "\n",
    "# define weights and biases for each layer\n",
    "W1 = tf.Variable(tf.random_normal([n_input, n_hidden]))  # weights from input to hidden layer\n",
    "b1 = tf.Variable(tf.random_normal([n_hidden]))  # biases for hidden layer\n",
    "W2 = tf.Variable(tf.random_normal([n_hidden, n_output]))  # weights from hidden to output layer\n",
    "b2 = tf.Variable(tf.random_normal([n_output]))  # biases for output layer\n",
    "\n",
    "# define activation functions for each layer\n",
    "z1 = tf.add(tf.matmul(X, W1), b1)  # linear combination for hidden layer\n",
    "a1 = tf.nn.sigmoid(z1)  # sigmoid activation for hidden layer\n",
    "z2 = tf.add(tf.matmul(a1, W2), b2)  # linear combination for output layer\n",
    "a2 = tf.nn.sigmoid(z2)  # sigmoid activation for output layer# define cost function and optimizer\n",
    "cost = tf.reduce_mean(tf.square(y - a2))  # mean squared error\n",
    "optimizer = tf.train.GradientDescentOptimizer(learning_rate=0.1).minimize(cost)  # gradient descent optimizer"
   ]
  },
  {
   "cell_type": "code",
   "execution_count": 4,
   "id": "903e32c8-d0e5-4433-85b2-5a078bebd028",
   "metadata": {},
   "outputs": [
    {
     "name": "stdout",
     "output_type": "stream",
     "text": [
      "Epoch 0, Cost: 0.27388209104537964\n",
      "Epoch 100, Cost: 0.2429683357477188\n",
      "Epoch 200, Cost: 0.2410500943660736\n",
      "Epoch 300, Cost: 0.23909252882003784\n",
      "Epoch 400, Cost: 0.2370290458202362\n",
      "Epoch 500, Cost: 0.23481076955795288\n",
      "Epoch 600, Cost: 0.23239779472351074\n",
      "Epoch 700, Cost: 0.22976049780845642\n",
      "Epoch 800, Cost: 0.2268817126750946\n",
      "Epoch 900, Cost: 0.22375795245170593\n",
      "Predictions: [[0.42101407]\n",
      " [0.5267472 ]\n",
      " [0.55367315]\n",
      " [0.5302515 ]]\n",
      "Actual: [[0.]\n",
      " [1.]\n",
      " [1.]\n",
      " [0.]]\n"
     ]
    },
    {
     "data": {
      "image/png": "[encoded data removed]",
      "text/plain": [
       "<Figure size 640x480 with 1 Axes>"
      ]
     },
     "metadata": {},
     "output_type": "display_data"
    },
    {
     "data": {
      "image/png": "[encoded data removed]",
      "text/plain": [
       "<Figure size 640x480 with 1 Axes>"
      ]
     },
     "metadata": {},
     "output_type": "display_data"
    }
   ],
   "source": [
    "# create a session object\n",
    "sess = tf.Session()\n",
    "\n",
    "# initialize all variables\n",
    "sess.run(tf.global_variables_initializer())\n",
    "\n",
    "# train for 1000 epochs\n",
    "for epoch in range(1000):\n",
    "    # run optimization and calculate cost\n",
    "    _, c = sess.run([optimizer, cost], feed_dict={X: X_train_data, y: y_train_data})\n",
    "    # print cost every 100 epochs\n",
    "    if epoch % 100 == 0:\n",
    "        print(f\"Epoch {epoch}, Cost: {c}\")\n",
    "\n",
    "# our model on unseen data\n",
    "X_test = np.array([[0, 0], [0, 1], [1, 0], [1, 1]], dtype=np.float32)  # test input\n",
    "y_test = np.array([[0], [1], [1], [0]], dtype=np.float32)  # test output\n",
    "\n",
    "# predict using our trained model\n",
    "y_pred = sess.run(a2, feed_dict={X: X_test})\n",
    "\n",
    "# print predictions and actual values\n",
    "print(f\"Predictions: {y_pred}\")\n",
    "print(f\"Actual: {y_test}\")\n",
    "\n",
    "# plot predictions and actual values\n",
    "plt.scatter(X_test[:, 0], X_test[:, 1], c=y_pred[:, 0], cmap='RdBu')\n",
    "plt.title(\"Predictions\")\n",
    "plt.show()\n",
    "\n",
    "plt.scatter(X_test[:, 0], X_test[:, 1], c=y_test[:, 0], cmap='RdBu')\n",
    "plt.title(\"Actual\")\n",
    "plt.show()\n",
    "\n",
    "# close session\n",
    "sess.close()"
   ]
  },
  {
   "cell_type": "code",
   "execution_count": null,
   "id": "3588c3b0-5766-4d83-8bb2-5e81262a3848",
   "metadata": {},
   "outputs": [],
   "source": []
  }
 ],
 "metadata": {
  "kernelspec": {
   "display_name": "Python 3 (ipykernel)",
   "language": "python",
   "name": "python3"
  },
  "language_info": {
   "codemirror_mode": {
    "name": "ipython",
    "version": 3
   },
   "file_extension": ".py",
   "mimetype": "text/x-python",
   "name": "python",
   "nbconvert_exporter": "python",
   "pygments_lexer": "ipython3",
   "version": "3.11.8"
  }
 },
 "nbformat": 4,
 "nbformat_minor": 5
}
